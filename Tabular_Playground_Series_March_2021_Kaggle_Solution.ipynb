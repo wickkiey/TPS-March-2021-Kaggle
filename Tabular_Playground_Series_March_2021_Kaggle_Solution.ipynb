{
  "nbformat": 4,
  "nbformat_minor": 0,
  "metadata": {
    "colab": {
      "name": "Tabular Playground Series March 2021 Kaggle Solution",
      "provenance": [],
      "mount_file_id": "1ix8hhDksBFT0dnaLJ1s-Nmdt5FxyRdKI",
      "authorship_tag": "ABX9TyMcwfqAu75yCkraimipiLgI",
      "include_colab_link": true
    },
    "kernelspec": {
      "name": "python3",
      "display_name": "Python 3"
    },
    "language_info": {
      "name": "python"
    },
    "accelerator": "GPU"
  },
  "cells": [
    {
      "cell_type": "markdown",
      "metadata": {
        "id": "view-in-github",
        "colab_type": "text"
      },
      "source": [
        "<a href=\"https://colab.research.google.com/github/wickkiey/TPS-March-2021-Kaggle/blob/main/Tabular_Playground_Series_March_2021_Kaggle_Solution.ipynb\" target=\"_parent\"><img src=\"https://colab.research.google.com/assets/colab-badge.svg\" alt=\"Open In Colab\"/></a>"
      ]
    },
    {
      "cell_type": "code",
      "metadata": {
        "colab": {
          "base_uri": "https://localhost:8080/"
        },
        "id": "FPXa_fA9zt-r",
        "outputId": "1792d254-d19a-4a83-fa92-4ae8e94faa2b"
      },
      "source": [
        "%cd /content/drive/MyDrive/data/TPS_March_2021"
      ],
      "execution_count": 1,
      "outputs": [
        {
          "output_type": "stream",
          "text": [
            "/content/drive/MyDrive/data/TPS_March_2021\n"
          ],
          "name": "stdout"
        }
      ]
    },
    {
      "cell_type": "code",
      "metadata": {
        "colab": {
          "base_uri": "https://localhost:8080/"
        },
        "id": "AZ1WJi6q0gdt",
        "outputId": "3eec73be-5200-4276-9570-2634862a0f79"
      },
      "source": [
        "!ls"
      ],
      "execution_count": 16,
      "outputs": [
        {
          "output_type": "stream",
          "text": [
            "sample_submission.csv\t   test.csv\t train.csv\n",
            "sample_submission.csv.zip  test.csv.zip  train.csv.zip\n"
          ],
          "name": "stdout"
        }
      ]
    },
    {
      "cell_type": "code",
      "metadata": {
        "colab": {
          "base_uri": "https://localhost:8080/"
        },
        "id": "frv3dgo31hBO",
        "outputId": "b98454ed-64df-4796-e169-f2f75c31a871"
      },
      "source": [
        "%cd .."
      ],
      "execution_count": 17,
      "outputs": [
        {
          "output_type": "stream",
          "text": [
            "/content/drive/My Drive/data/TPS_March_2021\n"
          ],
          "name": "stdout"
        }
      ]
    },
    {
      "cell_type": "code",
      "metadata": {
        "colab": {
          "base_uri": "https://localhost:8080/"
        },
        "id": "m6OGF8C82PLn",
        "outputId": "4de095b6-e02e-4142-ef47-9834b6b7579b"
      },
      "source": [
        "!pip install -qq category_encoders\n",
        "!pip install catboost"
      ],
      "execution_count": 21,
      "outputs": [
        {
          "output_type": "stream",
          "text": [
            "Collecting catboost\n",
            "\u001b[?25l  Downloading https://files.pythonhosted.org/packages/96/3b/bb419654adcf7efff42ed8a3f84e50c8f236424b7ed1cc8ccd290852e003/catboost-0.24.4-cp37-none-manylinux1_x86_64.whl (65.7MB)\n",
            "\u001b[K     |████████████████████████████████| 65.7MB 50kB/s \n",
            "\u001b[?25hRequirement already satisfied: numpy>=1.16.0 in /usr/local/lib/python3.7/dist-packages (from catboost) (1.19.5)\n",
            "Requirement already satisfied: plotly in /usr/local/lib/python3.7/dist-packages (from catboost) (4.4.1)\n",
            "Requirement already satisfied: scipy in /usr/local/lib/python3.7/dist-packages (from catboost) (1.4.1)\n",
            "Requirement already satisfied: six in /usr/local/lib/python3.7/dist-packages (from catboost) (1.15.0)\n",
            "Requirement already satisfied: pandas>=0.24.0 in /usr/local/lib/python3.7/dist-packages (from catboost) (1.1.5)\n",
            "Requirement already satisfied: graphviz in /usr/local/lib/python3.7/dist-packages (from catboost) (0.10.1)\n",
            "Requirement already satisfied: matplotlib in /usr/local/lib/python3.7/dist-packages (from catboost) (3.2.2)\n",
            "Requirement already satisfied: retrying>=1.3.3 in /usr/local/lib/python3.7/dist-packages (from plotly->catboost) (1.3.3)\n",
            "Requirement already satisfied: pytz>=2017.2 in /usr/local/lib/python3.7/dist-packages (from pandas>=0.24.0->catboost) (2018.9)\n",
            "Requirement already satisfied: python-dateutil>=2.7.3 in /usr/local/lib/python3.7/dist-packages (from pandas>=0.24.0->catboost) (2.8.1)\n",
            "Requirement already satisfied: kiwisolver>=1.0.1 in /usr/local/lib/python3.7/dist-packages (from matplotlib->catboost) (1.3.1)\n",
            "Requirement already satisfied: cycler>=0.10 in /usr/local/lib/python3.7/dist-packages (from matplotlib->catboost) (0.10.0)\n",
            "Requirement already satisfied: pyparsing!=2.0.4,!=2.1.2,!=2.1.6,>=2.0.1 in /usr/local/lib/python3.7/dist-packages (from matplotlib->catboost) (2.4.7)\n",
            "Installing collected packages: catboost\n",
            "Successfully installed catboost-0.24.4\n"
          ],
          "name": "stdout"
        }
      ]
    },
    {
      "cell_type": "code",
      "metadata": {
        "colab": {
          "base_uri": "https://localhost:8080/"
        },
        "id": "azEU5DUW1nX3",
        "outputId": "1f080044-21bf-4bf5-f567-645c36b3f604"
      },
      "source": [
        "\n",
        "import numpy as np # linear algebra\n",
        "import pandas as pd # data processing, CSV file I/O (e.g. pd.read_csv)\n",
        "\n",
        "\n",
        "# Input data files are available in the read-only \"../input/\" directory\n",
        "# For example, running this (by clicking run or pressing Shift+Enter) will list all files under the input directory\n",
        "from catboost import CatBoostClassifier, Pool, cv\n",
        "import category_encoders as ce \n",
        "from sklearn.pipeline import Pipeline\n",
        "from sklearn.preprocessing import MinMaxScaler, StandardScaler, Normalizer\n",
        "from sklearn.model_selection import train_test_split, cross_val_score\n",
        "from sklearn.metrics import f1_score"
      ],
      "execution_count": 22,
      "outputs": [
        {
          "output_type": "stream",
          "text": [
            "/usr/local/lib/python3.7/dist-packages/statsmodels/tools/_testing.py:19: FutureWarning: pandas.util.testing is deprecated. Use the functions in the public API at pandas.testing instead.\n",
            "  import pandas.util.testing as tm\n"
          ],
          "name": "stderr"
        }
      ]
    },
    {
      "cell_type": "code",
      "metadata": {
        "id": "5zjrlN0E2S4H"
      },
      "source": [
        "sub = pd.read_csv(\"data/sample_submission.csv\")\n",
        "train = pd.read_csv(\"data/train.csv\")\n",
        "test = pd.read_csv(\"data/test.csv\")"
      ],
      "execution_count": 23,
      "outputs": []
    },
    {
      "cell_type": "code",
      "metadata": {
        "colab": {
          "base_uri": "https://localhost:8080/"
        },
        "id": "0kIa5Px63C1r",
        "outputId": "a79c794a-3058-4b7a-bb9e-77a48494109c"
      },
      "source": [
        "train.target.value_counts()"
      ],
      "execution_count": 25,
      "outputs": [
        {
          "output_type": "execute_result",
          "data": {
            "text/plain": [
              "0    220539\n",
              "1     79461\n",
              "Name: target, dtype: int64"
            ]
          },
          "metadata": {
            "tags": []
          },
          "execution_count": 25
        }
      ]
    },
    {
      "cell_type": "code",
      "metadata": {
        "colab": {
          "base_uri": "https://localhost:8080/"
        },
        "id": "s8c-kG0m2ojf",
        "outputId": "80d584ac-5255-4ff8-b150-b52c574f2fa7"
      },
      "source": [
        "cat_cols = train.select_dtypes('object').columns.to_list()\n",
        "print(\"Category Columns \",cat_cols)"
      ],
      "execution_count": 26,
      "outputs": [
        {
          "output_type": "stream",
          "text": [
            "Category Columns  ['cat0', 'cat1', 'cat2', 'cat3', 'cat4', 'cat5', 'cat6', 'cat7', 'cat8', 'cat9', 'cat10', 'cat11', 'cat12', 'cat13', 'cat14', 'cat15', 'cat16', 'cat17', 'cat18']\n"
          ],
          "name": "stdout"
        }
      ]
    },
    {
      "cell_type": "code",
      "metadata": {
        "id": "ZmGB30_X3BJ2"
      },
      "source": [
        "X = train.drop([\"id\",\"target\"],axis=1)\n",
        "y = train['target']"
      ],
      "execution_count": 27,
      "outputs": []
    },
    {
      "cell_type": "code",
      "metadata": {
        "colab": {
          "base_uri": "https://localhost:8080/"
        },
        "id": "pyz3NnM53FFX",
        "outputId": "c01beaae-7b8a-4b8f-8dc4-5a286b949e03"
      },
      "source": [
        "cat_idxs = []\n",
        "for col in cat_cols:\n",
        "    cat_idxs.append(X.columns.get_loc(col))\n",
        "    \n",
        "print(\"Category Column indexes\",cat_idxs)"
      ],
      "execution_count": 28,
      "outputs": [
        {
          "output_type": "stream",
          "text": [
            "Category Column indexes [0, 1, 2, 3, 4, 5, 6, 7, 8, 9, 10, 11, 12, 13, 14, 15, 16, 17, 18]\n"
          ],
          "name": "stdout"
        }
      ]
    },
    {
      "cell_type": "code",
      "metadata": {
        "id": "UNFbAuic3GIF"
      },
      "source": [
        "mdl = CatBoostClassifier(iterations = 1000,cat_features=cat_idxs,verbose=200,task_type='GPU',auto_class_weights='Balanced')"
      ],
      "execution_count": 42,
      "outputs": []
    },
    {
      "cell_type": "code",
      "metadata": {
        "colab": {
          "base_uri": "https://localhost:8080/"
        },
        "id": "0Zoo_DI73JIM",
        "outputId": "b624f251-b0cd-4b7b-a28f-0b9c2686a73c"
      },
      "source": [
        "cv_score = cross_val_score(mdl,X,y,scoring ='roc_auc',cv=3)"
      ],
      "execution_count": 43,
      "outputs": [
        {
          "output_type": "stream",
          "text": [
            "Learning rate set to 0.025189\n",
            "0:\tlearn: 0.6821000\ttotal: 91.9ms\tremaining: 1m 31s\n",
            "200:\tlearn: 0.4411137\ttotal: 15.4s\tremaining: 1m 1s\n",
            "400:\tlearn: 0.4287041\ttotal: 30.7s\tremaining: 45.8s\n",
            "600:\tlearn: 0.4230236\ttotal: 45.8s\tremaining: 30.4s\n",
            "800:\tlearn: 0.4191488\ttotal: 1m\tremaining: 15.1s\n",
            "999:\tlearn: 0.4160640\ttotal: 1m 16s\tremaining: 0us\n",
            "Learning rate set to 0.025189\n",
            "0:\tlearn: 0.6821467\ttotal: 72.5ms\tremaining: 1m 12s\n",
            "200:\tlearn: 0.4397306\ttotal: 15.3s\tremaining: 1m\n",
            "400:\tlearn: 0.4275539\ttotal: 30.6s\tremaining: 45.7s\n",
            "600:\tlearn: 0.4218732\ttotal: 45.6s\tremaining: 30.3s\n",
            "800:\tlearn: 0.4180768\ttotal: 1m\tremaining: 15.1s\n",
            "999:\tlearn: 0.4152469\ttotal: 1m 15s\tremaining: 0us\n",
            "Learning rate set to 0.025189\n",
            "0:\tlearn: 0.6820577\ttotal: 71.2ms\tremaining: 1m 11s\n",
            "200:\tlearn: 0.4407294\ttotal: 15.2s\tremaining: 1m\n",
            "400:\tlearn: 0.4285405\ttotal: 30.5s\tremaining: 45.5s\n",
            "600:\tlearn: 0.4228195\ttotal: 45.6s\tremaining: 30.3s\n",
            "800:\tlearn: 0.4188904\ttotal: 1m\tremaining: 15.1s\n",
            "999:\tlearn: 0.4158130\ttotal: 1m 15s\tremaining: 0us\n"
          ],
          "name": "stdout"
        }
      ]
    },
    {
      "cell_type": "code",
      "metadata": {
        "colab": {
          "base_uri": "https://localhost:8080/"
        },
        "id": "jX9GQvyx3KiM",
        "outputId": "f190ec42-5687-4a33-d9be-51f4449fa5b2"
      },
      "source": [
        "cv_score"
      ],
      "execution_count": 44,
      "outputs": [
        {
          "output_type": "execute_result",
          "data": {
            "text/plain": [
              "array([0.88904015, 0.88713331, 0.88688019])"
            ]
          },
          "metadata": {
            "tags": []
          },
          "execution_count": 44
        }
      ]
    },
    {
      "cell_type": "code",
      "metadata": {
        "colab": {
          "base_uri": "https://localhost:8080/"
        },
        "id": "Ez1Cklr04OLd",
        "outputId": "1f217be4-1517-4ea0-f6c4-58d2892114d2"
      },
      "source": [
        "mdl.fit(X,y)"
      ],
      "execution_count": 32,
      "outputs": [
        {
          "output_type": "stream",
          "text": [
            "Learning rate set to 0.024634\n",
            "0:\tlearn: 0.6800398\ttotal: 128ms\tremaining: 2m 7s\n",
            "200:\tlearn: 0.3705679\ttotal: 20.5s\tremaining: 1m 21s\n",
            "400:\tlearn: 0.3604383\ttotal: 41s\tremaining: 1m 1s\n",
            "600:\tlearn: 0.3562573\ttotal: 1m 1s\tremaining: 40.7s\n",
            "800:\tlearn: 0.3537206\ttotal: 1m 21s\tremaining: 20.3s\n",
            "999:\tlearn: 0.3517915\ttotal: 1m 41s\tremaining: 0us\n"
          ],
          "name": "stdout"
        },
        {
          "output_type": "execute_result",
          "data": {
            "text/plain": [
              "<catboost.core.CatBoostClassifier at 0x7f5c36b6cf90>"
            ]
          },
          "metadata": {
            "tags": []
          },
          "execution_count": 32
        }
      ]
    },
    {
      "cell_type": "code",
      "metadata": {
        "id": "MzyInxFN4gIO"
      },
      "source": [
        "test_pred = mdl.predict_proba(test[X.columns])"
      ],
      "execution_count": 34,
      "outputs": []
    },
    {
      "cell_type": "code",
      "metadata": {
        "id": "aJswuPe24pPy"
      },
      "source": [
        "res = pd.DataFrame()\n",
        "res['id'] = test['id']\n",
        "res['target'] = test_pred[:,1]\n",
        "res.to_csv(\"predict.csv\",index=False)"
      ],
      "execution_count": 39,
      "outputs": []
    },
    {
      "cell_type": "code",
      "metadata": {
        "colab": {
          "base_uri": "https://localhost:8080/",
          "height": 197
        },
        "id": "42eSoXoV4ykk",
        "outputId": "a62b59eb-13b7-4c75-82b6-6c31b74a90bb"
      },
      "source": [
        "res.head()"
      ],
      "execution_count": 37,
      "outputs": [
        {
          "output_type": "execute_result",
          "data": {
            "text/html": [
              "<div>\n",
              "<style scoped>\n",
              "    .dataframe tbody tr th:only-of-type {\n",
              "        vertical-align: middle;\n",
              "    }\n",
              "\n",
              "    .dataframe tbody tr th {\n",
              "        vertical-align: top;\n",
              "    }\n",
              "\n",
              "    .dataframe thead th {\n",
              "        text-align: right;\n",
              "    }\n",
              "</style>\n",
              "<table border=\"1\" class=\"dataframe\">\n",
              "  <thead>\n",
              "    <tr style=\"text-align: right;\">\n",
              "      <th></th>\n",
              "      <th>id</th>\n",
              "      <th>target</th>\n",
              "    </tr>\n",
              "  </thead>\n",
              "  <tbody>\n",
              "    <tr>\n",
              "      <th>0</th>\n",
              "      <td>5</td>\n",
              "      <td>0.853213</td>\n",
              "    </tr>\n",
              "    <tr>\n",
              "      <th>1</th>\n",
              "      <td>6</td>\n",
              "      <td>0.440921</td>\n",
              "    </tr>\n",
              "    <tr>\n",
              "      <th>2</th>\n",
              "      <td>8</td>\n",
              "      <td>0.963542</td>\n",
              "    </tr>\n",
              "    <tr>\n",
              "      <th>3</th>\n",
              "      <td>9</td>\n",
              "      <td>0.843102</td>\n",
              "    </tr>\n",
              "    <tr>\n",
              "      <th>4</th>\n",
              "      <td>11</td>\n",
              "      <td>0.914338</td>\n",
              "    </tr>\n",
              "  </tbody>\n",
              "</table>\n",
              "</div>"
            ],
            "text/plain": [
              "   id    target\n",
              "0   5  0.853213\n",
              "1   6  0.440921\n",
              "2   8  0.963542\n",
              "3   9  0.843102\n",
              "4  11  0.914338"
            ]
          },
          "metadata": {
            "tags": []
          },
          "execution_count": 37
        }
      ]
    },
    {
      "cell_type": "code",
      "metadata": {
        "colab": {
          "base_uri": "https://localhost:8080/",
          "height": 16
        },
        "id": "bzpwrYqn43hg",
        "outputId": "c728f404-89b9-48d1-9286-8203c72826d6"
      },
      "source": [
        "# from google.colab import files\n",
        "\n",
        "# files.download('predict.csv')"
      ],
      "execution_count": 38,
      "outputs": [
        {
          "output_type": "display_data",
          "data": {
            "application/javascript": [
              "\n",
              "    async function download(id, filename, size) {\n",
              "      if (!google.colab.kernel.accessAllowed) {\n",
              "        return;\n",
              "      }\n",
              "      const div = document.createElement('div');\n",
              "      const label = document.createElement('label');\n",
              "      label.textContent = `Downloading \"${filename}\": `;\n",
              "      div.appendChild(label);\n",
              "      const progress = document.createElement('progress');\n",
              "      progress.max = size;\n",
              "      div.appendChild(progress);\n",
              "      document.body.appendChild(div);\n",
              "\n",
              "      const buffers = [];\n",
              "      let downloaded = 0;\n",
              "\n",
              "      const channel = await google.colab.kernel.comms.open(id);\n",
              "      // Send a message to notify the kernel that we're ready.\n",
              "      channel.send({})\n",
              "\n",
              "      for await (const message of channel.messages) {\n",
              "        // Send a message to notify the kernel that we're ready.\n",
              "        channel.send({})\n",
              "        if (message.buffers) {\n",
              "          for (const buffer of message.buffers) {\n",
              "            buffers.push(buffer);\n",
              "            downloaded += buffer.byteLength;\n",
              "            progress.value = downloaded;\n",
              "          }\n",
              "        }\n",
              "      }\n",
              "      const blob = new Blob(buffers, {type: 'application/binary'});\n",
              "      const a = document.createElement('a');\n",
              "      a.href = window.URL.createObjectURL(blob);\n",
              "      a.download = filename;\n",
              "      div.appendChild(a);\n",
              "      a.click();\n",
              "      div.remove();\n",
              "    }\n",
              "  "
            ],
            "text/plain": [
              "<IPython.core.display.Javascript object>"
            ]
          },
          "metadata": {
            "tags": []
          }
        },
        {
          "output_type": "display_data",
          "data": {
            "application/javascript": [
              "download(\"download_88665671-4e3c-43c5-8334-a4ab7fecb005\", \"predict.csv\", 5165183)"
            ],
            "text/plain": [
              "<IPython.core.display.Javascript object>"
            ]
          },
          "metadata": {
            "tags": []
          }
        }
      ]
    },
    {
      "cell_type": "code",
      "metadata": {
        "colab": {
          "base_uri": "https://localhost:8080/"
        },
        "id": "degt2SSv5IVj",
        "outputId": "915bd48c-9938-4256-9a54-f80516d52a1a"
      },
      "source": [
        "!kaggle competitions submit -c tabular-playground-series-mar-2021 -f predict.csv -m \"Catboost 2k GPU direct push\""
      ],
      "execution_count": 41,
      "outputs": [
        {
          "output_type": "stream",
          "text": [
            "Warning: Looks like you're using an outdated API Version, please consider updating (server 1.5.12 / client 1.5.4)\n",
            "100% 5.06M/5.06M [00:05<00:00, 1.04MB/s]\n",
            "Successfully submitted to Tabular Playground Series - Mar 2021"
          ],
          "name": "stdout"
        }
      ]
    },
    {
      "cell_type": "code",
      "metadata": {
        "id": "9NkXg6Lu55AX"
      },
      "source": [
        ""
      ],
      "execution_count": null,
      "outputs": []
    }
  ]
}